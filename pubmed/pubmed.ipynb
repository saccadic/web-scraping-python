{
 "cells": [
  {
   "cell_type": "markdown",
   "metadata": {},
   "source": [
    "# PubⅯedからタイトルを抽出"
   ]
  },
  {
   "cell_type": "code",
   "execution_count": 1,
   "metadata": {
    "ExecuteTime": {
     "end_time": "2018-08-18T14:10:09.508132Z",
     "start_time": "2018-08-18T14:09:56.179857Z"
    }
   },
   "outputs": [
    {
     "name": "stdout",
     "output_type": "stream",
     "text": [
      "Requirement already satisfied: tqdm in c:\\users\\hotta\\anaconda3\\lib\\site-packages (4.24.0)\n"
     ]
    },
    {
     "name": "stderr",
     "output_type": "stream",
     "text": [
      "twisted 18.7.0 requires PyHamcrest>=1.9.0, which is not installed.\n",
      "You are using pip version 10.0.1, however version 18.0 is available.\n",
      "You should consider upgrading via the 'python -m pip install --upgrade pip' command.\n"
     ]
    },
    {
     "name": "stdout",
     "output_type": "stream",
     "text": [
      "Requirement already satisfied: Pandas in c:\\users\\hotta\\anaconda3\\lib\\site-packages (0.23.4)\n",
      "Requirement already satisfied: python-dateutil>=2.5.0 in c:\\users\\hotta\\anaconda3\\lib\\site-packages (from Pandas) (2.7.3)\n",
      "Requirement already satisfied: pytz>=2011k in c:\\users\\hotta\\anaconda3\\lib\\site-packages (from Pandas) (2018.5)\n",
      "Requirement already satisfied: numpy>=1.9.0 in c:\\users\\hotta\\appdata\\roaming\\python\\python36\\site-packages (from Pandas) (1.14.5)\n",
      "Requirement already satisfied: six>=1.5 in c:\\users\\hotta\\appdata\\roaming\\python\\python36\\site-packages (from python-dateutil>=2.5.0->Pandas) (1.11.0)\n"
     ]
    },
    {
     "name": "stderr",
     "output_type": "stream",
     "text": [
      "twisted 18.7.0 requires PyHamcrest>=1.9.0, which is not installed.\n",
      "You are using pip version 10.0.1, however version 18.0 is available.\n",
      "You should consider upgrading via the 'python -m pip install --upgrade pip' command.\n"
     ]
    },
    {
     "name": "stdout",
     "output_type": "stream",
     "text": [
      "Requirement already satisfied: selenium in c:\\users\\hotta\\anaconda3\\lib\\site-packages (3.14.0)\n",
      "Requirement already satisfied: urllib3 in c:\\users\\hotta\\anaconda3\\lib\\site-packages (from selenium) (1.23)\n"
     ]
    },
    {
     "name": "stderr",
     "output_type": "stream",
     "text": [
      "twisted 18.7.0 requires PyHamcrest>=1.9.0, which is not installed.\n",
      "You are using pip version 10.0.1, however version 18.0 is available.\n",
      "You should consider upgrading via the 'python -m pip install --upgrade pip' command.\n"
     ]
    },
    {
     "name": "stdout",
     "output_type": "stream",
     "text": [
      "Requirement already satisfied: chromedriver-binary in c:\\users\\hotta\\anaconda3\\lib\\site-packages (2.41.0)\n"
     ]
    },
    {
     "name": "stderr",
     "output_type": "stream",
     "text": [
      "twisted 18.7.0 requires PyHamcrest>=1.9.0, which is not installed.\n",
      "You are using pip version 10.0.1, however version 18.0 is available.\n",
      "You should consider upgrading via the 'python -m pip install --upgrade pip' command.\n"
     ]
    },
    {
     "name": "stdout",
     "output_type": "stream",
     "text": [
      "Requirement already satisfied: Requests in c:\\users\\hotta\\anaconda3\\lib\\site-packages (2.19.1)\n",
      "Requirement already satisfied: chardet<3.1.0,>=3.0.2 in c:\\users\\hotta\\anaconda3\\lib\\site-packages (from Requests) (3.0.4)\n",
      "Requirement already satisfied: certifi>=2017.4.17 in c:\\users\\hotta\\anaconda3\\lib\\site-packages (from Requests) (2018.4.16)\n",
      "Requirement already satisfied: urllib3<1.24,>=1.21.1 in c:\\users\\hotta\\anaconda3\\lib\\site-packages (from Requests) (1.23)\n",
      "Requirement already satisfied: idna<2.8,>=2.5 in c:\\users\\hotta\\anaconda3\\lib\\site-packages (from Requests) (2.7)\n"
     ]
    },
    {
     "name": "stderr",
     "output_type": "stream",
     "text": [
      "twisted 18.7.0 requires PyHamcrest>=1.9.0, which is not installed.\n",
      "You are using pip version 10.0.1, however version 18.0 is available.\n",
      "You should consider upgrading via the 'python -m pip install --upgrade pip' command.\n"
     ]
    },
    {
     "name": "stdout",
     "output_type": "stream",
     "text": [
      "Requirement already satisfied: BeautifulSoup4 in c:\\users\\hotta\\anaconda3\\lib\\site-packages (4.6.1)\n"
     ]
    },
    {
     "name": "stderr",
     "output_type": "stream",
     "text": [
      "twisted 18.7.0 requires PyHamcrest>=1.9.0, which is not installed.\n",
      "You are using pip version 10.0.1, however version 18.0 is available.\n",
      "You should consider upgrading via the 'python -m pip install --upgrade pip' command.\n"
     ]
    }
   ],
   "source": [
    "!pip install tqdm\n",
    "!pip install Pandas\n",
    "!pip install selenium\n",
    "!pip install chromedriver-binary\n",
    "!pip install Requests \n",
    "!pip install BeautifulSoup4"
   ]
  },
  {
   "cell_type": "code",
   "execution_count": 2,
   "metadata": {
    "ExecuteTime": {
     "end_time": "2018-08-18T14:26:17.233382Z",
     "start_time": "2018-08-18T14:10:12.976605Z"
    }
   },
   "outputs": [
    {
     "name": "stdout",
     "output_type": "stream",
     "text": [
      "https://www.ncbi.nlm.nih.gov/pubmed/?term=saccade\n"
     ]
    },
    {
     "name": "stderr",
     "output_type": "stream",
     "text": [
      "100%|████████████████████████████████████████████████████████████████████████████████| 644/644 [15:52<00:00,  1.48s/it]\n"
     ]
    },
    {
     "name": "stdout",
     "output_type": "stream",
     "text": [
      "                                                       0\n",
      "0      Inhibition failures and late errors in the ant...\n",
      "1      Activity of near response cells during disconj...\n",
      "2      Refixation control in free viewing: a speciali...\n",
      "3      Visual Target Strategies in Infantile Nystagmu...\n",
      "4      Motion extrapolation for eye movements predict...\n",
      "5      Spatial working memory in Progressive Supranuc...\n",
      "6      Effects of inter-character spacing on saccade ...\n",
      "7      Reducing saccadic artifacts and confounds in b...\n",
      "8      Dissociation of LFP power and tuning in the fr...\n",
      "9      Visual working memory supports perceptual stab...\n",
      "10     A Combined Approach for the Analysis of Ocular...\n",
      "11     The Relationship between Saccades and Locomotion.\n",
      "12     The faster you decide, the more accurate local...\n",
      "13     OB1-reader: A model of word recognition and ey...\n",
      "14     An Exploratory Application of Eye-Tracking Met...\n",
      "15     Oculomotor Executive Dysfunction during the Ea...\n",
      "16     A novel real-space navigation paradigm reveals...\n",
      "17     Presaccadic EEG activity predicts visual salie...\n",
      "18     The hard work of doing nothing: Accounting for...\n",
      "19     A new MR imaging index for differentiation of ...\n",
      "20     Advantages of Considering Gains and Corrective...\n",
      "21     Head-Movement-Emphasized Rehabilitation in Bil...\n",
      "22       How visual spatial attention alters perception.\n",
      "23     Probing oculomotor inhibition with the minimal...\n",
      "24     Interactions between eye movements and posture...\n",
      "25     Information processing under high and low dist...\n",
      "26     Effect of colored filters on reading capabilit...\n",
      "27     Estimating dynamic brain functional networks u...\n",
      "28     Eye movements in idiopathic rapid eye movement...\n",
      "29     Saccade metrics reflect decision-making dynami...\n",
      "...                                                  ...\n",
      "12850  A Combined Approach for the Analysis of Ocular...\n",
      "12851  The Relationship between Saccades and Locomotion.\n",
      "12852  The faster you decide, the more accurate local...\n",
      "12853  OB1-reader: A model of word recognition and ey...\n",
      "12854  An Exploratory Application of Eye-Tracking Met...\n",
      "12855  Oculomotor Executive Dysfunction during the Ea...\n",
      "12856  A novel real-space navigation paradigm reveals...\n",
      "12857  Presaccadic EEG activity predicts visual salie...\n",
      "12858  The hard work of doing nothing: Accounting for...\n",
      "12859  A new MR imaging index for differentiation of ...\n",
      "12860  Advantages of Considering Gains and Corrective...\n",
      "12861  Head-Movement-Emphasized Rehabilitation in Bil...\n",
      "12862    How visual spatial attention alters perception.\n",
      "12863  Probing oculomotor inhibition with the minimal...\n",
      "12864  Interactions between eye movements and posture...\n",
      "12865  Information processing under high and low dist...\n",
      "12866  Effect of colored filters on reading capabilit...\n",
      "12867  Estimating dynamic brain functional networks u...\n",
      "12868  Eye movements in idiopathic rapid eye movement...\n",
      "12869  Saccade metrics reflect decision-making dynami...\n",
      "12870  Eye Movements Interfere With Limb Motor Contro...\n",
      "12871  [Oculomotor activity as an indicator of distur...\n",
      "12872  Behavioral Variant Frontotemporal Dementia Per...\n",
      "12873                 Oculomotor Assessment in Children.\n",
      "12874  Functional and cognitive vision assessment in ...\n",
      "12875  Spatial frequency sensitivity in macaque midbr...\n",
      "12876  Quantifying eye dominance strength - New insig...\n",
      "12877  Feature integration is unaffected by saccade l...\n",
      "12878  Unsupervised detection of microsaccades in a h...\n",
      "12879  Perceptual insensitivity to higher-order stati...\n",
      "\n",
      "[12880 rows x 1 columns]\n"
     ]
    }
   ],
   "source": [
    "from tqdm import tqdm\n",
    "import pandas as pd\n",
    "import chromedriver_binary\n",
    "from selenium import webdriver\n",
    "from selenium.webdriver.chrome.options import Options\n",
    "from bs4 import BeautifulSoup\n",
    "\n",
    "options = Options()\n",
    "options.add_argument('--headless')\n",
    "driver = webdriver.Chrome(chrome_options=options)\n",
    "\n",
    "keyword = \"saccade\"\n",
    "url = \"https://www.ncbi.nlm.nih.gov/pubmed/?term=\"+keyword.replace(' ','+')\n",
    "print(url)\n",
    "driver.get(url)\n",
    "\n",
    "html = driver.page_source\n",
    "bs = BeautifulSoup(html,\"html.parser\")\n",
    "input_str = bs.find('input',id=\"pageno\")\n",
    "size = int(input_str['last'])\n",
    "\n",
    "listData = []\n",
    "\n",
    "for i in tqdm(range(0,size)):\n",
    "    if(i>0):\n",
    "        driver.find_element_by_name('EntrezSystem2.PEntrez.PubMed.Pubmed_ResultsPanel.Pubmed_Pager.Page').click()\n",
    "    html = driver.page_source\n",
    "    bs = BeautifulSoup(html,\"html.parser\")\n",
    "    topics = bs.find_all(\"p\", class_=\"title\")\n",
    "    for t in range(len(topics)):\n",
    "       listData.append(topics[t].text)\n",
    "\n",
    "df = pd.DataFrame.from_dict(listData)\n",
    "print(df)\n",
    "\n",
    "driver.quit()"
   ]
  }
 ],
 "metadata": {
  "hide_input": false,
  "kernelspec": {
   "display_name": "Python 3",
   "language": "python",
   "name": "python3"
  },
  "language_info": {
   "codemirror_mode": {
    "name": "ipython",
    "version": 3
   },
   "file_extension": ".py",
   "mimetype": "text/x-python",
   "name": "python",
   "nbconvert_exporter": "python",
   "pygments_lexer": "ipython3",
   "version": "3.6.6"
  },
  "toc": {
   "base_numbering": 1,
   "nav_menu": {},
   "number_sections": true,
   "sideBar": true,
   "skip_h1_title": false,
   "title_cell": "Table of Contents",
   "title_sidebar": "Contents",
   "toc_cell": false,
   "toc_position": {},
   "toc_section_display": true,
   "toc_window_display": false
  },
  "varInspector": {
   "cols": {
    "lenName": 16,
    "lenType": 16,
    "lenVar": 40
   },
   "kernels_config": {
    "python": {
     "delete_cmd_postfix": "",
     "delete_cmd_prefix": "del ",
     "library": "var_list.py",
     "varRefreshCmd": "print(var_dic_list())"
    },
    "r": {
     "delete_cmd_postfix": ") ",
     "delete_cmd_prefix": "rm(",
     "library": "var_list.r",
     "varRefreshCmd": "cat(var_dic_list()) "
    }
   },
   "types_to_exclude": [
    "module",
    "function",
    "builtin_function_or_method",
    "instance",
    "_Feature"
   ],
   "window_display": false
  }
 },
 "nbformat": 4,
 "nbformat_minor": 2
}
